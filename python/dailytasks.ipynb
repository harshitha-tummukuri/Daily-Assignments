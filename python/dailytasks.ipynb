{
  "nbformat": 4,
  "nbformat_minor": 0,
  "metadata": {
    "colab": {
      "provenance": []
    },
    "kernelspec": {
      "name": "python3",
      "display_name": "Python 3"
    },
    "language_info": {
      "name": "python"
    }
  },
  "cells": [
    {
      "cell_type": "markdown",
      "source": [
        "Reverse a given string without using built-in reverse functions"
      ],
      "metadata": {
        "id": "XoFsKhxBL8F5"
      }
    },
    {
      "cell_type": "code",
      "source": [
        "srting=input('enter a string:  ')\n",
        "print(srting[::-1])"
      ],
      "metadata": {
        "colab": {
          "base_uri": "https://localhost:8080/"
        },
        "id": "SR8jNmWYJwGh",
        "outputId": "6fa68095-6d58-46d6-bc51-f4d0e26b2c2b"
      },
      "execution_count": null,
      "outputs": [
        {
          "output_type": "stream",
          "name": "stdout",
          "text": [
            "enter a string:  harshi\n",
            "ihsrah\n"
          ]
        }
      ]
    },
    {
      "cell_type": "markdown",
      "source": [
        "Check if a string is a palindrome.\n"
      ],
      "metadata": {
        "id": "lYroZI_MMLMv"
      }
    },
    {
      "cell_type": "code",
      "execution_count": null,
      "metadata": {
        "colab": {
          "base_uri": "https://localhost:8080/"
        },
        "id": "mUwQTRMwI3KO",
        "outputId": "3c9158ae-d890-46a0-ee98-b9c0a02fe3f9"
      },
      "outputs": [
        {
          "output_type": "stream",
          "name": "stdout",
          "text": [
            "enter a string:  madam\n",
            "the string is a palindrome\n"
          ]
        }
      ],
      "source": [
        "string=input('enter a string:  ')\n",
        "if string==string[::-1]:\n",
        "    print('the string is a palindrome')\n",
        "else:\n",
        "    print('the string is not a palindrome')"
      ]
    },
    {
      "cell_type": "markdown",
      "source": [
        "Count the number of vowels and consonants in a string.\n"
      ],
      "metadata": {
        "id": "KKzyfjiFMQz2"
      }
    },
    {
      "cell_type": "code",
      "source": [
        "string=input('enter a string: ')\n",
        "vowels='aeiouAEIOU'\n",
        "vowelscount=0\n",
        "consonentscount=0\n",
        "for i in string:\n",
        "  if i in vowels:\n",
        "    vowelscount=vowelscount+1\n",
        "  else:\n",
        "    consonentscount=consonentscount+1\n",
        "print('No.of vowels',vowelscount)\n",
        "print('No.of consonents',consonentscount)"
      ],
      "metadata": {
        "colab": {
          "base_uri": "https://localhost:8080/"
        },
        "id": "Us19yBxyMT-1",
        "outputId": "9cef02fa-10f7-447a-984c-b759728fcbf2"
      },
      "execution_count": null,
      "outputs": [
        {
          "output_type": "stream",
          "name": "stdout",
          "text": [
            "enter a string: Harshitha\n",
            "No.of vowels 3\n",
            "No.of consonents 6\n"
          ]
        }
      ]
    },
    {
      "cell_type": "markdown",
      "source": [
        "Remove all spaces from a given string.\n"
      ],
      "metadata": {
        "id": "xoX4ZnE7U3XT"
      }
    },
    {
      "cell_type": "code",
      "source": [
        "string=\"     Harshitha     \"\n",
        "print(string)\n",
        "print(string.strip())"
      ],
      "metadata": {
        "colab": {
          "base_uri": "https://localhost:8080/"
        },
        "id": "MRca_oDnU__Z",
        "outputId": "debc8632-4b66-4b98-913b-7b3faf99059f"
      },
      "execution_count": null,
      "outputs": [
        {
          "output_type": "stream",
          "name": "stdout",
          "text": [
            "     Harshitha     \n",
            "Harshitha\n"
          ]
        }
      ]
    },
    {
      "cell_type": "code",
      "source": [
        "string='h a r s h i'\n",
        "print(string)\n",
        "print(string.replace(\" \",\"\"))"
      ],
      "metadata": {
        "colab": {
          "base_uri": "https://localhost:8080/"
        },
        "id": "M785wVcYVqvK",
        "outputId": "c3340c55-887b-4f42-d5b4-16256804ddc5"
      },
      "execution_count": null,
      "outputs": [
        {
          "output_type": "stream",
          "name": "stdout",
          "text": [
            "h a r s h i\n",
            "harshi\n"
          ]
        }
      ]
    },
    {
      "cell_type": "markdown",
      "source": [
        "Count the frequency of each character in a string."
      ],
      "metadata": {
        "id": "FOKXUzT-Wkr-"
      }
    },
    {
      "cell_type": "code",
      "source": [
        "string=input('enter a string: ')\n",
        "count={}\n",
        "for char in string:\n",
        "  if char in count:\n",
        "    count[char]+=1\n",
        "  else:\n",
        "    count[char]=1\n",
        "print('Count Frequency is....')\n",
        "for key,value in count.items():\n",
        "  print(key,'=',value)"
      ],
      "metadata": {
        "colab": {
          "base_uri": "https://localhost:8080/"
        },
        "id": "ObTm5YPuWlig",
        "outputId": "dd2e80dc-73cd-4525-88af-d155984a403f"
      },
      "execution_count": null,
      "outputs": [
        {
          "output_type": "stream",
          "name": "stdout",
          "text": [
            "enter a string: harshitha\n",
            "Count Frequency is....\n",
            "h = 3\n",
            "a = 2\n",
            "r = 1\n",
            "s = 1\n",
            "i = 1\n",
            "t = 1\n"
          ]
        }
      ]
    }
  ]
}