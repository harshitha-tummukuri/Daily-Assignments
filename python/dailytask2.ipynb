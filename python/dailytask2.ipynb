{
  "nbformat": 4,
  "nbformat_minor": 0,
  "metadata": {
    "colab": {
      "provenance": []
    },
    "kernelspec": {
      "name": "python3",
      "display_name": "Python 3"
    },
    "language_info": {
      "name": "python"
    }
  },
  "cells": [
    {
      "cell_type": "markdown",
      "source": [
        "**Check if a number is prime or not.**\n"
      ],
      "metadata": {
        "id": "Eh6M81HfrPWL"
      }
    },
    {
      "cell_type": "code",
      "source": [
        "num=int(input(\"Enter a number:\"))\n",
        "count=0\n",
        "for i in range(1,num+1):\n",
        "  if num % i == 0:\n",
        "    count = count+1\n",
        "if count == 2:\n",
        "  print(num,\"is a prime number\")\n",
        "else:\n",
        "  print(num,\"is not a prime number\")"
      ],
      "metadata": {
        "colab": {
          "base_uri": "https://localhost:8080/"
        },
        "id": "rFChsJVCrmR_",
        "outputId": "3358cf36-72fe-42aa-c8d8-fce6ba5aab1c"
      },
      "execution_count": 2,
      "outputs": [
        {
          "output_type": "stream",
          "name": "stdout",
          "text": [
            "Enter a number:7\n",
            "7 is a prime number\n"
          ]
        }
      ]
    },
    {
      "cell_type": "markdown",
      "source": [
        "**Find the factorial of a number.**\n"
      ],
      "metadata": {
        "id": "kPM87Lo6t1xK"
      }
    },
    {
      "cell_type": "code",
      "source": [
        "num=int(input(\"Enter a number:\"))\n",
        "fact=1\n",
        "for i in range(1,num+1):\n",
        "  fact=fact*i\n",
        "print(\"Factorial of\",num,\"is\",fact)"
      ],
      "metadata": {
        "colab": {
          "base_uri": "https://localhost:8080/"
        },
        "id": "QD64h38jt6RO",
        "outputId": "f1ff8039-a135-4a42-c9b2-c9361f273195"
      },
      "execution_count": 4,
      "outputs": [
        {
          "output_type": "stream",
          "name": "stdout",
          "text": [
            "Enter a number:7\n",
            "Factorial of 7 is 5040\n"
          ]
        }
      ]
    },
    {
      "cell_type": "markdown",
      "source": [
        "**Print the Fibonacci series up to n terms**.\n"
      ],
      "metadata": {
        "id": "9DzCqilcuPlx"
      }
    },
    {
      "cell_type": "code",
      "source": [
        "n = int(input(\"Enter number of terms: \"))\n",
        "\n",
        "a, b = 0, 1\n",
        "\n",
        "for i in range(n):\n",
        "    print(a, end=\" \")\n",
        "    a,b=b,a+b"
      ],
      "metadata": {
        "colab": {
          "base_uri": "https://localhost:8080/"
        },
        "id": "SkUq4i5-uZKJ",
        "outputId": "8909ae0b-e1a6-4e97-c4d6-8423535fbe4b"
      },
      "execution_count": 15,
      "outputs": [
        {
          "output_type": "stream",
          "name": "stdout",
          "text": [
            "Enter number of terms: 7\n",
            "0 1 1 2 3 5 8 "
          ]
        }
      ]
    },
    {
      "cell_type": "markdown",
      "source": [
        "**Find the sum of digits of a given number.**\n"
      ],
      "metadata": {
        "id": "VORpk1cIx3im"
      }
    },
    {
      "cell_type": "code",
      "source": [
        "n=int(input(\"enter a number:\"))\n",
        "sum=0\n",
        "while n>0:\n",
        "    rem=n%10\n",
        "    sum=sum+rem\n",
        "    n=n//10\n",
        "print(\"Sum of digits:\",sum)"
      ],
      "metadata": {
        "colab": {
          "base_uri": "https://localhost:8080/"
        },
        "id": "BLcB4997xouo",
        "outputId": "811f57e7-c178-47e2-daf5-ab998d18ff0a"
      },
      "execution_count": 9,
      "outputs": [
        {
          "output_type": "stream",
          "name": "stdout",
          "text": [
            "enter a number:794\n",
            "Sum of digits: 20\n"
          ]
        }
      ]
    },
    {
      "cell_type": "markdown",
      "source": [
        "**Reverse the digits of a given number.**"
      ],
      "metadata": {
        "id": "qSVT3FXhx-jm"
      }
    },
    {
      "cell_type": "code",
      "source": [
        "n=int(input(\"enter a number:\"))\n",
        "rev=0\n",
        "while(n>0):\n",
        "    rem=n%10\n",
        "    rev=(rev*10)+rem\n",
        "    n=n//10\n",
        "print(rev)"
      ],
      "metadata": {
        "colab": {
          "base_uri": "https://localhost:8080/"
        },
        "id": "k7WxEDxjyCth",
        "outputId": "501c8a49-2797-4fe4-ab1c-32fdf6786d30"
      },
      "execution_count": 10,
      "outputs": [
        {
          "output_type": "stream",
          "name": "stdout",
          "text": [
            "enter a number:794\n",
            "497\n"
          ]
        }
      ]
    }
  ]
}